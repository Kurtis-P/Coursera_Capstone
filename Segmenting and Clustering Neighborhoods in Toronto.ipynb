{
 "cells": [
  {
   "cell_type": "markdown",
   "metadata": {},
   "source": [
    "## Part I"
   ]
  },
  {
   "cell_type": "markdown",
   "metadata": {},
   "source": [
    "Use the Notebook to build the code to scrape the following Wikipedia page, https://en.wikipedia.org/wiki/List_of_postal_codes_of_Canada:_M, in order to obtain the data that is in the table of postal codes and to transform the data into a pandas dataframe."
   ]
  },
  {
   "cell_type": "code",
   "execution_count": 1,
   "metadata": {},
   "outputs": [],
   "source": [
    "import requests\n",
    "import bs4\n",
    "import pandas as pd\n",
    "import re"
   ]
  },
  {
   "cell_type": "code",
   "execution_count": 2,
   "metadata": {},
   "outputs": [],
   "source": [
    "url=r'https://en.wikipedia.org/wiki/List_of_postal_codes_of_Canada:_M'\n",
    "res=requests.get(url)\n",
    "Ca_PC=bs4.BeautifulSoup(res.text)\n",
    "elems=Ca_PC.select('table')\n",
    "items=[item for item in elems[0].getText().split('\\n') if item != '']"
   ]
  },
  {
   "cell_type": "code",
   "execution_count": 3,
   "metadata": {},
   "outputs": [],
   "source": [
    "codes=[]\n",
    "neig=[]\n",
    "for i in range(len(items)-1):\n",
    "    if re.match('M[0-9][A-Z]',items[i]) and items[i+1]!='Not assigned':\n",
    "        codes.append(items[i])\n",
    "        neig.append([items[i],(items[i+1]).replace(r'/',','),(items[i+2]).replace(r'/',',')])"
   ]
  },
  {
   "cell_type": "code",
   "execution_count": 4,
   "metadata": {},
   "outputs": [
    {
     "data": {
      "text/html": [
       "<div>\n",
       "<style scoped>\n",
       "    .dataframe tbody tr th:only-of-type {\n",
       "        vertical-align: middle;\n",
       "    }\n",
       "\n",
       "    .dataframe tbody tr th {\n",
       "        vertical-align: top;\n",
       "    }\n",
       "\n",
       "    .dataframe thead th {\n",
       "        text-align: right;\n",
       "    }\n",
       "</style>\n",
       "<table border=\"1\" class=\"dataframe\">\n",
       "  <thead>\n",
       "    <tr style=\"text-align: right;\">\n",
       "      <th></th>\n",
       "      <th>Postal Code</th>\n",
       "      <th>Borough</th>\n",
       "      <th>Neighborhood</th>\n",
       "    </tr>\n",
       "  </thead>\n",
       "  <tbody>\n",
       "    <tr>\n",
       "      <td>0</td>\n",
       "      <td>M3A</td>\n",
       "      <td>North York</td>\n",
       "      <td>Parkwoods</td>\n",
       "    </tr>\n",
       "    <tr>\n",
       "      <td>1</td>\n",
       "      <td>M4A</td>\n",
       "      <td>North York</td>\n",
       "      <td>Victoria Village</td>\n",
       "    </tr>\n",
       "    <tr>\n",
       "      <td>2</td>\n",
       "      <td>M5A</td>\n",
       "      <td>Downtown Toronto</td>\n",
       "      <td>Regent Park , Harbourfront</td>\n",
       "    </tr>\n",
       "    <tr>\n",
       "      <td>3</td>\n",
       "      <td>M6A</td>\n",
       "      <td>North York</td>\n",
       "      <td>Lawrence Manor , Lawrence Heights</td>\n",
       "    </tr>\n",
       "    <tr>\n",
       "      <td>4</td>\n",
       "      <td>M7A</td>\n",
       "      <td>Downtown Toronto</td>\n",
       "      <td>Queen's Park , Ontario Provincial Government</td>\n",
       "    </tr>\n",
       "  </tbody>\n",
       "</table>\n",
       "</div>"
      ],
      "text/plain": [
       "  Postal Code           Borough                                  Neighborhood\n",
       "0         M3A        North York                                     Parkwoods\n",
       "1         M4A        North York                              Victoria Village\n",
       "2         M5A  Downtown Toronto                    Regent Park , Harbourfront\n",
       "3         M6A        North York             Lawrence Manor , Lawrence Heights\n",
       "4         M7A  Downtown Toronto  Queen's Park , Ontario Provincial Government"
      ]
     },
     "execution_count": 4,
     "metadata": {},
     "output_type": "execute_result"
    }
   ],
   "source": [
    "PostalCodes = pd.DataFrame(neig,columns=['Postal Code','Borough','Neighborhood'])\n",
    "PostalCodes.head()"
   ]
  },
  {
   "cell_type": "code",
   "execution_count": 5,
   "metadata": {},
   "outputs": [
    {
     "data": {
      "text/plain": [
       "(103, 3)"
      ]
     },
     "execution_count": 5,
     "metadata": {},
     "output_type": "execute_result"
    }
   ],
   "source": [
    "PostalCodes.shape"
   ]
  },
  {
   "cell_type": "markdown",
   "metadata": {},
   "source": [
    "## Part II"
   ]
  },
  {
   "cell_type": "code",
   "execution_count": 6,
   "metadata": {},
   "outputs": [
    {
     "name": "stderr",
     "output_type": "stream",
     "text": [
      "Status code Unknown from https://maps.googleapis.com/maps/api/geocode/json: ERROR - HTTPSConnectionPool(host='maps.googleapis.com', port=443): Max retries exceeded with url: /maps/api/geocode/json?address=M5G%2C+Toronto%2C+Ontario&bounds=&components=&region=&language= (Caused by ProxyError('Cannot connect to proxy.', timeout('select timed out')))\n"
     ]
    },
    {
     "name": "stdout",
     "output_type": "stream",
     "text": [
      "failed!\n"
     ]
    }
   ],
   "source": [
    "import geocoder\n",
    "\n",
    "lat_lng_coords = None\n",
    "i=0\n",
    "while(lat_lng_coords is None and i<=50):\n",
    "    g = geocoder.google('{}, Toronto, Ontario'.format('M5G'))\n",
    "    lat_lng_coords = g.latlng\n",
    "    i+=1\n",
    "if lat_lng_coords is None:\n",
    "    print('failed!')\n",
    "else:\n",
    "    latitude = lat_lng_coords[0]\n",
    "    longitude = lat_lng_coords[1]"
   ]
  },
  {
   "cell_type": "markdown",
   "metadata": {},
   "source": [
    "**Since the package doesn't work, I use the csv file instead.**"
   ]
  },
  {
   "cell_type": "code",
   "execution_count": 9,
   "metadata": {},
   "outputs": [
    {
     "data": {
      "text/html": [
       "<div>\n",
       "<style scoped>\n",
       "    .dataframe tbody tr th:only-of-type {\n",
       "        vertical-align: middle;\n",
       "    }\n",
       "\n",
       "    .dataframe tbody tr th {\n",
       "        vertical-align: top;\n",
       "    }\n",
       "\n",
       "    .dataframe thead th {\n",
       "        text-align: right;\n",
       "    }\n",
       "</style>\n",
       "<table border=\"1\" class=\"dataframe\">\n",
       "  <thead>\n",
       "    <tr style=\"text-align: right;\">\n",
       "      <th></th>\n",
       "      <th>Postal Code</th>\n",
       "      <th>Latitude</th>\n",
       "      <th>Longitude</th>\n",
       "    </tr>\n",
       "  </thead>\n",
       "  <tbody>\n",
       "    <tr>\n",
       "      <td>0</td>\n",
       "      <td>M1B</td>\n",
       "      <td>43.806686</td>\n",
       "      <td>-79.194353</td>\n",
       "    </tr>\n",
       "    <tr>\n",
       "      <td>1</td>\n",
       "      <td>M1C</td>\n",
       "      <td>43.784535</td>\n",
       "      <td>-79.160497</td>\n",
       "    </tr>\n",
       "    <tr>\n",
       "      <td>2</td>\n",
       "      <td>M1E</td>\n",
       "      <td>43.763573</td>\n",
       "      <td>-79.188711</td>\n",
       "    </tr>\n",
       "    <tr>\n",
       "      <td>3</td>\n",
       "      <td>M1G</td>\n",
       "      <td>43.770992</td>\n",
       "      <td>-79.216917</td>\n",
       "    </tr>\n",
       "    <tr>\n",
       "      <td>4</td>\n",
       "      <td>M1H</td>\n",
       "      <td>43.773136</td>\n",
       "      <td>-79.239476</td>\n",
       "    </tr>\n",
       "  </tbody>\n",
       "</table>\n",
       "</div>"
      ],
      "text/plain": [
       "  Postal Code   Latitude  Longitude\n",
       "0         M1B  43.806686 -79.194353\n",
       "1         M1C  43.784535 -79.160497\n",
       "2         M1E  43.763573 -79.188711\n",
       "3         M1G  43.770992 -79.216917\n",
       "4         M1H  43.773136 -79.239476"
      ]
     },
     "execution_count": 9,
     "metadata": {},
     "output_type": "execute_result"
    }
   ],
   "source": [
    "df=pd.read_csv('Geospatial_Coordinates.csv')\n",
    "df.head()"
   ]
  },
  {
   "cell_type": "code",
   "execution_count": 10,
   "metadata": {},
   "outputs": [
    {
     "data": {
      "text/html": [
       "<div>\n",
       "<style scoped>\n",
       "    .dataframe tbody tr th:only-of-type {\n",
       "        vertical-align: middle;\n",
       "    }\n",
       "\n",
       "    .dataframe tbody tr th {\n",
       "        vertical-align: top;\n",
       "    }\n",
       "\n",
       "    .dataframe thead th {\n",
       "        text-align: right;\n",
       "    }\n",
       "</style>\n",
       "<table border=\"1\" class=\"dataframe\">\n",
       "  <thead>\n",
       "    <tr style=\"text-align: right;\">\n",
       "      <th></th>\n",
       "      <th>Postal Code</th>\n",
       "      <th>Borough</th>\n",
       "      <th>Neighborhood</th>\n",
       "      <th>Latitude</th>\n",
       "      <th>Longitude</th>\n",
       "    </tr>\n",
       "  </thead>\n",
       "  <tbody>\n",
       "    <tr>\n",
       "      <td>0</td>\n",
       "      <td>M3A</td>\n",
       "      <td>North York</td>\n",
       "      <td>Parkwoods</td>\n",
       "      <td>43.753259</td>\n",
       "      <td>-79.329656</td>\n",
       "    </tr>\n",
       "    <tr>\n",
       "      <td>1</td>\n",
       "      <td>M4A</td>\n",
       "      <td>North York</td>\n",
       "      <td>Victoria Village</td>\n",
       "      <td>43.725882</td>\n",
       "      <td>-79.315572</td>\n",
       "    </tr>\n",
       "    <tr>\n",
       "      <td>2</td>\n",
       "      <td>M5A</td>\n",
       "      <td>Downtown Toronto</td>\n",
       "      <td>Regent Park , Harbourfront</td>\n",
       "      <td>43.654260</td>\n",
       "      <td>-79.360636</td>\n",
       "    </tr>\n",
       "    <tr>\n",
       "      <td>3</td>\n",
       "      <td>M6A</td>\n",
       "      <td>North York</td>\n",
       "      <td>Lawrence Manor , Lawrence Heights</td>\n",
       "      <td>43.718518</td>\n",
       "      <td>-79.464763</td>\n",
       "    </tr>\n",
       "    <tr>\n",
       "      <td>4</td>\n",
       "      <td>M7A</td>\n",
       "      <td>Downtown Toronto</td>\n",
       "      <td>Queen's Park , Ontario Provincial Government</td>\n",
       "      <td>43.662301</td>\n",
       "      <td>-79.389494</td>\n",
       "    </tr>\n",
       "  </tbody>\n",
       "</table>\n",
       "</div>"
      ],
      "text/plain": [
       "  Postal Code           Borough                                  Neighborhood  \\\n",
       "0         M3A        North York                                     Parkwoods   \n",
       "1         M4A        North York                              Victoria Village   \n",
       "2         M5A  Downtown Toronto                    Regent Park , Harbourfront   \n",
       "3         M6A        North York             Lawrence Manor , Lawrence Heights   \n",
       "4         M7A  Downtown Toronto  Queen's Park , Ontario Provincial Government   \n",
       "\n",
       "    Latitude  Longitude  \n",
       "0  43.753259 -79.329656  \n",
       "1  43.725882 -79.315572  \n",
       "2  43.654260 -79.360636  \n",
       "3  43.718518 -79.464763  \n",
       "4  43.662301 -79.389494  "
      ]
     },
     "execution_count": 10,
     "metadata": {},
     "output_type": "execute_result"
    }
   ],
   "source": [
    "PostalCodes=pd.merge(PostalCodes,df,how='left',on='Postal Code')\n",
    "PostalCodes.head()"
   ]
  },
  {
   "cell_type": "code",
   "execution_count": 11,
   "metadata": {},
   "outputs": [
    {
     "data": {
      "text/plain": [
       "(103, 5)"
      ]
     },
     "execution_count": 11,
     "metadata": {},
     "output_type": "execute_result"
    }
   ],
   "source": [
    "PostalCodes.shape"
   ]
  },
  {
   "cell_type": "markdown",
   "metadata": {},
   "source": [
    "## Part III"
   ]
  },
  {
   "cell_type": "markdown",
   "metadata": {},
   "source": [
    "I decide to cluster all the postal code based on how many neighborhood they have and what borough they belong to."
   ]
  },
  {
   "cell_type": "code",
   "execution_count": 22,
   "metadata": {},
   "outputs": [],
   "source": [
    "test_PostalCodes=PostalCodes.copy()"
   ]
  },
  {
   "cell_type": "code",
   "execution_count": 23,
   "metadata": {},
   "outputs": [
    {
     "data": {
      "text/html": [
       "<div>\n",
       "<style scoped>\n",
       "    .dataframe tbody tr th:only-of-type {\n",
       "        vertical-align: middle;\n",
       "    }\n",
       "\n",
       "    .dataframe tbody tr th {\n",
       "        vertical-align: top;\n",
       "    }\n",
       "\n",
       "    .dataframe thead th {\n",
       "        text-align: right;\n",
       "    }\n",
       "</style>\n",
       "<table border=\"1\" class=\"dataframe\">\n",
       "  <thead>\n",
       "    <tr style=\"text-align: right;\">\n",
       "      <th></th>\n",
       "      <th>Postal Code</th>\n",
       "      <th>Borough</th>\n",
       "      <th>Neighborhood</th>\n",
       "      <th>Latitude</th>\n",
       "      <th>Longitude</th>\n",
       "      <th>Num</th>\n",
       "    </tr>\n",
       "  </thead>\n",
       "  <tbody>\n",
       "    <tr>\n",
       "      <td>0</td>\n",
       "      <td>M3A</td>\n",
       "      <td>North York</td>\n",
       "      <td>Parkwoods</td>\n",
       "      <td>43.753259</td>\n",
       "      <td>-79.329656</td>\n",
       "      <td>1.0</td>\n",
       "    </tr>\n",
       "    <tr>\n",
       "      <td>1</td>\n",
       "      <td>M4A</td>\n",
       "      <td>North York</td>\n",
       "      <td>Victoria Village</td>\n",
       "      <td>43.725882</td>\n",
       "      <td>-79.315572</td>\n",
       "      <td>1.0</td>\n",
       "    </tr>\n",
       "    <tr>\n",
       "      <td>2</td>\n",
       "      <td>M5A</td>\n",
       "      <td>Downtown Toronto</td>\n",
       "      <td>Regent Park , Harbourfront</td>\n",
       "      <td>43.654260</td>\n",
       "      <td>-79.360636</td>\n",
       "      <td>2.0</td>\n",
       "    </tr>\n",
       "    <tr>\n",
       "      <td>3</td>\n",
       "      <td>M6A</td>\n",
       "      <td>North York</td>\n",
       "      <td>Lawrence Manor , Lawrence Heights</td>\n",
       "      <td>43.718518</td>\n",
       "      <td>-79.464763</td>\n",
       "      <td>2.0</td>\n",
       "    </tr>\n",
       "    <tr>\n",
       "      <td>4</td>\n",
       "      <td>M7A</td>\n",
       "      <td>Downtown Toronto</td>\n",
       "      <td>Queen's Park , Ontario Provincial Government</td>\n",
       "      <td>43.662301</td>\n",
       "      <td>-79.389494</td>\n",
       "      <td>2.0</td>\n",
       "    </tr>\n",
       "  </tbody>\n",
       "</table>\n",
       "</div>"
      ],
      "text/plain": [
       "  Postal Code           Borough                                  Neighborhood  \\\n",
       "0         M3A        North York                                     Parkwoods   \n",
       "1         M4A        North York                              Victoria Village   \n",
       "2         M5A  Downtown Toronto                    Regent Park , Harbourfront   \n",
       "3         M6A        North York             Lawrence Manor , Lawrence Heights   \n",
       "4         M7A  Downtown Toronto  Queen's Park , Ontario Provincial Government   \n",
       "\n",
       "    Latitude  Longitude  Num  \n",
       "0  43.753259 -79.329656  1.0  \n",
       "1  43.725882 -79.315572  1.0  \n",
       "2  43.654260 -79.360636  2.0  \n",
       "3  43.718518 -79.464763  2.0  \n",
       "4  43.662301 -79.389494  2.0  "
      ]
     },
     "execution_count": 23,
     "metadata": {},
     "output_type": "execute_result"
    }
   ],
   "source": [
    "for i in range(len(test_PostalCodes)):\n",
    "    test_PostalCodes.loc[i,'Num']=len(test_PostalCodes.iloc[i,2].split(','))\n",
    "test_PostalCodes.head()"
   ]
  },
  {
   "cell_type": "code",
   "execution_count": 26,
   "metadata": {
    "scrolled": true
   },
   "outputs": [
    {
     "data": {
      "text/html": [
       "<div>\n",
       "<style scoped>\n",
       "    .dataframe tbody tr th:only-of-type {\n",
       "        vertical-align: middle;\n",
       "    }\n",
       "\n",
       "    .dataframe tbody tr th {\n",
       "        vertical-align: top;\n",
       "    }\n",
       "\n",
       "    .dataframe thead th {\n",
       "        text-align: right;\n",
       "    }\n",
       "</style>\n",
       "<table border=\"1\" class=\"dataframe\">\n",
       "  <thead>\n",
       "    <tr style=\"text-align: right;\">\n",
       "      <th></th>\n",
       "      <th>Postal Code</th>\n",
       "      <th>Neighborhood</th>\n",
       "      <th>Latitude</th>\n",
       "      <th>Longitude</th>\n",
       "      <th>Num</th>\n",
       "    </tr>\n",
       "    <tr>\n",
       "      <th>Borough</th>\n",
       "      <th></th>\n",
       "      <th></th>\n",
       "      <th></th>\n",
       "      <th></th>\n",
       "      <th></th>\n",
       "    </tr>\n",
       "  </thead>\n",
       "  <tbody>\n",
       "    <tr>\n",
       "      <td>Central Toronto</td>\n",
       "      <td>9</td>\n",
       "      <td>9</td>\n",
       "      <td>9</td>\n",
       "      <td>9</td>\n",
       "      <td>9</td>\n",
       "    </tr>\n",
       "    <tr>\n",
       "      <td>Downtown Toronto</td>\n",
       "      <td>19</td>\n",
       "      <td>19</td>\n",
       "      <td>19</td>\n",
       "      <td>19</td>\n",
       "      <td>19</td>\n",
       "    </tr>\n",
       "    <tr>\n",
       "      <td>East Toronto</td>\n",
       "      <td>5</td>\n",
       "      <td>5</td>\n",
       "      <td>5</td>\n",
       "      <td>5</td>\n",
       "      <td>5</td>\n",
       "    </tr>\n",
       "    <tr>\n",
       "      <td>East York</td>\n",
       "      <td>5</td>\n",
       "      <td>5</td>\n",
       "      <td>5</td>\n",
       "      <td>5</td>\n",
       "      <td>5</td>\n",
       "    </tr>\n",
       "    <tr>\n",
       "      <td>Etobicoke</td>\n",
       "      <td>12</td>\n",
       "      <td>12</td>\n",
       "      <td>12</td>\n",
       "      <td>12</td>\n",
       "      <td>12</td>\n",
       "    </tr>\n",
       "    <tr>\n",
       "      <td>Mississauga</td>\n",
       "      <td>1</td>\n",
       "      <td>1</td>\n",
       "      <td>1</td>\n",
       "      <td>1</td>\n",
       "      <td>1</td>\n",
       "    </tr>\n",
       "    <tr>\n",
       "      <td>North York</td>\n",
       "      <td>24</td>\n",
       "      <td>24</td>\n",
       "      <td>24</td>\n",
       "      <td>24</td>\n",
       "      <td>24</td>\n",
       "    </tr>\n",
       "    <tr>\n",
       "      <td>Scarborough</td>\n",
       "      <td>17</td>\n",
       "      <td>17</td>\n",
       "      <td>17</td>\n",
       "      <td>17</td>\n",
       "      <td>17</td>\n",
       "    </tr>\n",
       "    <tr>\n",
       "      <td>West Toronto</td>\n",
       "      <td>6</td>\n",
       "      <td>6</td>\n",
       "      <td>6</td>\n",
       "      <td>6</td>\n",
       "      <td>6</td>\n",
       "    </tr>\n",
       "    <tr>\n",
       "      <td>York</td>\n",
       "      <td>5</td>\n",
       "      <td>5</td>\n",
       "      <td>5</td>\n",
       "      <td>5</td>\n",
       "      <td>5</td>\n",
       "    </tr>\n",
       "  </tbody>\n",
       "</table>\n",
       "</div>"
      ],
      "text/plain": [
       "                  Postal Code  Neighborhood  Latitude  Longitude  Num\n",
       "Borough                                                              \n",
       "Central Toronto             9             9         9          9    9\n",
       "Downtown Toronto           19            19        19         19   19\n",
       "East Toronto                5             5         5          5    5\n",
       "East York                   5             5         5          5    5\n",
       "Etobicoke                  12            12        12         12   12\n",
       "Mississauga                 1             1         1          1    1\n",
       "North York                 24            24        24         24   24\n",
       "Scarborough                17            17        17         17   17\n",
       "West Toronto                6             6         6          6    6\n",
       "York                        5             5         5          5    5"
      ]
     },
     "execution_count": 26,
     "metadata": {},
     "output_type": "execute_result"
    }
   ],
   "source": [
    "test_PostalCodes.groupby('Borough').count()"
   ]
  },
  {
   "cell_type": "code",
   "execution_count": 29,
   "metadata": {},
   "outputs": [
    {
     "data": {
      "text/html": [
       "<div>\n",
       "<style scoped>\n",
       "    .dataframe tbody tr th:only-of-type {\n",
       "        vertical-align: middle;\n",
       "    }\n",
       "\n",
       "    .dataframe tbody tr th {\n",
       "        vertical-align: top;\n",
       "    }\n",
       "\n",
       "    .dataframe thead th {\n",
       "        text-align: right;\n",
       "    }\n",
       "</style>\n",
       "<table border=\"1\" class=\"dataframe\">\n",
       "  <thead>\n",
       "    <tr style=\"text-align: right;\">\n",
       "      <th></th>\n",
       "      <th>Postal Code</th>\n",
       "      <th>Central Toronto</th>\n",
       "      <th>Downtown Toronto</th>\n",
       "      <th>East Toronto</th>\n",
       "      <th>East York</th>\n",
       "      <th>Etobicoke</th>\n",
       "      <th>Mississauga</th>\n",
       "      <th>North York</th>\n",
       "      <th>Scarborough</th>\n",
       "      <th>West Toronto</th>\n",
       "      <th>York</th>\n",
       "      <th>Num</th>\n",
       "    </tr>\n",
       "  </thead>\n",
       "  <tbody>\n",
       "    <tr>\n",
       "      <td>0</td>\n",
       "      <td>M3A</td>\n",
       "      <td>0</td>\n",
       "      <td>0</td>\n",
       "      <td>0</td>\n",
       "      <td>0</td>\n",
       "      <td>0</td>\n",
       "      <td>0</td>\n",
       "      <td>1</td>\n",
       "      <td>0</td>\n",
       "      <td>0</td>\n",
       "      <td>0</td>\n",
       "      <td>1.0</td>\n",
       "    </tr>\n",
       "    <tr>\n",
       "      <td>1</td>\n",
       "      <td>M4A</td>\n",
       "      <td>0</td>\n",
       "      <td>0</td>\n",
       "      <td>0</td>\n",
       "      <td>0</td>\n",
       "      <td>0</td>\n",
       "      <td>0</td>\n",
       "      <td>1</td>\n",
       "      <td>0</td>\n",
       "      <td>0</td>\n",
       "      <td>0</td>\n",
       "      <td>1.0</td>\n",
       "    </tr>\n",
       "    <tr>\n",
       "      <td>2</td>\n",
       "      <td>M5A</td>\n",
       "      <td>0</td>\n",
       "      <td>1</td>\n",
       "      <td>0</td>\n",
       "      <td>0</td>\n",
       "      <td>0</td>\n",
       "      <td>0</td>\n",
       "      <td>0</td>\n",
       "      <td>0</td>\n",
       "      <td>0</td>\n",
       "      <td>0</td>\n",
       "      <td>2.0</td>\n",
       "    </tr>\n",
       "    <tr>\n",
       "      <td>3</td>\n",
       "      <td>M6A</td>\n",
       "      <td>0</td>\n",
       "      <td>0</td>\n",
       "      <td>0</td>\n",
       "      <td>0</td>\n",
       "      <td>0</td>\n",
       "      <td>0</td>\n",
       "      <td>1</td>\n",
       "      <td>0</td>\n",
       "      <td>0</td>\n",
       "      <td>0</td>\n",
       "      <td>2.0</td>\n",
       "    </tr>\n",
       "    <tr>\n",
       "      <td>4</td>\n",
       "      <td>M7A</td>\n",
       "      <td>0</td>\n",
       "      <td>1</td>\n",
       "      <td>0</td>\n",
       "      <td>0</td>\n",
       "      <td>0</td>\n",
       "      <td>0</td>\n",
       "      <td>0</td>\n",
       "      <td>0</td>\n",
       "      <td>0</td>\n",
       "      <td>0</td>\n",
       "      <td>2.0</td>\n",
       "    </tr>\n",
       "  </tbody>\n",
       "</table>\n",
       "</div>"
      ],
      "text/plain": [
       "  Postal Code  Central Toronto  Downtown Toronto  East Toronto  East York  \\\n",
       "0         M3A                0                 0             0          0   \n",
       "1         M4A                0                 0             0          0   \n",
       "2         M5A                0                 1             0          0   \n",
       "3         M6A                0                 0             0          0   \n",
       "4         M7A                0                 1             0          0   \n",
       "\n",
       "   Etobicoke  Mississauga  North York  Scarborough  West Toronto  York  Num  \n",
       "0          0            0           1            0             0     0  1.0  \n",
       "1          0            0           1            0             0     0  1.0  \n",
       "2          0            0           0            0             0     0  2.0  \n",
       "3          0            0           1            0             0     0  2.0  \n",
       "4          0            0           0            0             0     0  2.0  "
      ]
     },
     "execution_count": 29,
     "metadata": {},
     "output_type": "execute_result"
    }
   ],
   "source": [
    "# one hot encoding\n",
    "PostalCodes_onehot = pd.get_dummies(test_PostalCodes[['Borough']], prefix=\"\", prefix_sep=\"\")\n",
    "\n",
    "# add num and Postal Code column back to dataframe\n",
    "PostalCodes_onehot['Num'] = test_PostalCodes['Num']\n",
    "PostalCodes_onehot['Postal Code'] = test_PostalCodes['Postal Code']\n",
    "\n",
    "# move neighborhood column to the first column\n",
    "fixed_columns = [PostalCodes_onehot.columns[-1]] + list(PostalCodes_onehot.columns[:-1])\n",
    "PostalCodes_onehot = PostalCodes_onehot[fixed_columns]\n",
    "\n",
    "PostalCodes_onehot.head()"
   ]
  },
  {
   "cell_type": "code",
   "execution_count": 30,
   "metadata": {},
   "outputs": [
    {
     "data": {
      "text/plain": [
       "(103, 12)"
      ]
     },
     "execution_count": 30,
     "metadata": {},
     "output_type": "execute_result"
    }
   ],
   "source": [
    "PostalCodes_onehot.shape"
   ]
  },
  {
   "cell_type": "markdown",
   "metadata": {},
   "source": [
    "Run k-means to cluster the Postal Code into 5 clusters."
   ]
  },
  {
   "cell_type": "code",
   "execution_count": 32,
   "metadata": {},
   "outputs": [
    {
     "name": "stdout",
     "output_type": "stream",
     "text": [
      "[[0.         0.         0.         ... 0.         0.         0.        ]\n",
      " [0.         0.         0.         ... 0.         0.         0.        ]\n",
      " [0.         1.         0.         ... 0.         0.         0.14285714]\n",
      " ...\n",
      " [0.         0.         1.         ... 0.         0.         0.        ]\n",
      " [0.         0.         0.         ... 0.         0.         1.        ]\n",
      " [0.         0.         0.         ... 0.         0.         0.57142857]]\n"
     ]
    }
   ],
   "source": [
    "#MinMaxScaler\n",
    "from sklearn.preprocessing import MinMaxScaler\n",
    "\n",
    "PostalCodes_onehot_clustering = PostalCodes_onehot.drop('Postal Code', 1)\n",
    "scaler = MinMaxScaler()\n",
    "scaler.fit(PostalCodes_onehot_clustering)\n",
    "trans_PostalCodes_onehot_clustering = scaler.transform(PostalCodes_onehot_clustering)\n",
    "print(trans_PostalCodes_onehot_clustering)"
   ]
  },
  {
   "cell_type": "code",
   "execution_count": 35,
   "metadata": {},
   "outputs": [
    {
     "data": {
      "text/plain": [
       "array([0, 0, 2, 0, 2, 1, 3, 0, 4, 2, 0, 1, 3, 0, 4, 2, 4, 1, 3, 4, 2, 4,\n",
       "       3, 4, 2, 2, 3, 0, 0, 4, 2, 4, 3, 0, 0, 4, 2, 4, 3, 0, 0, 4, 2, 4,\n",
       "       3, 0, 0, 4, 2, 0, 0, 3, 0, 0, 4, 0, 4, 0, 3, 0, 0, 4, 4, 4, 4, 3,\n",
       "       0, 4, 4, 4, 1, 3, 0, 4, 4, 4, 4, 1, 3, 4, 2, 4, 3, 4, 2, 3, 4, 2,\n",
       "       1, 1, 3, 2, 2, 1, 1, 3, 2, 2, 1, 2, 4, 1, 1])"
      ]
     },
     "execution_count": 35,
     "metadata": {},
     "output_type": "execute_result"
    }
   ],
   "source": [
    "from sklearn.cluster import KMeans \n",
    "# set number of clusters\n",
    "kclusters = 5\n",
    "\n",
    "# run k-means clustering\n",
    "kmeans = KMeans(init=\"k-means++\",n_clusters=kclusters, n_init=12).fit(trans_PostalCodes_onehot_clustering)\n",
    "\n",
    "# check cluster labels generated for each row in the dataframe\n",
    "k_means_labels = kmeans.labels_\n",
    "k_means_labels"
   ]
  },
  {
   "cell_type": "markdown",
   "metadata": {},
   "source": [
    "Create a map of Toronto with clustered postal codes."
   ]
  },
  {
   "cell_type": "code",
   "execution_count": 36,
   "metadata": {},
   "outputs": [
    {
     "data": {
      "text/html": [
       "<div>\n",
       "<style scoped>\n",
       "    .dataframe tbody tr th:only-of-type {\n",
       "        vertical-align: middle;\n",
       "    }\n",
       "\n",
       "    .dataframe tbody tr th {\n",
       "        vertical-align: top;\n",
       "    }\n",
       "\n",
       "    .dataframe thead th {\n",
       "        text-align: right;\n",
       "    }\n",
       "</style>\n",
       "<table border=\"1\" class=\"dataframe\">\n",
       "  <thead>\n",
       "    <tr style=\"text-align: right;\">\n",
       "      <th></th>\n",
       "      <th>Postal Code</th>\n",
       "      <th>Borough</th>\n",
       "      <th>Neighborhood</th>\n",
       "      <th>Latitude</th>\n",
       "      <th>Longitude</th>\n",
       "      <th>Num</th>\n",
       "      <th>group</th>\n",
       "    </tr>\n",
       "  </thead>\n",
       "  <tbody>\n",
       "    <tr>\n",
       "      <td>0</td>\n",
       "      <td>M3A</td>\n",
       "      <td>North York</td>\n",
       "      <td>Parkwoods</td>\n",
       "      <td>43.753259</td>\n",
       "      <td>-79.329656</td>\n",
       "      <td>1.0</td>\n",
       "      <td>0</td>\n",
       "    </tr>\n",
       "    <tr>\n",
       "      <td>1</td>\n",
       "      <td>M4A</td>\n",
       "      <td>North York</td>\n",
       "      <td>Victoria Village</td>\n",
       "      <td>43.725882</td>\n",
       "      <td>-79.315572</td>\n",
       "      <td>1.0</td>\n",
       "      <td>0</td>\n",
       "    </tr>\n",
       "    <tr>\n",
       "      <td>2</td>\n",
       "      <td>M5A</td>\n",
       "      <td>Downtown Toronto</td>\n",
       "      <td>Regent Park , Harbourfront</td>\n",
       "      <td>43.654260</td>\n",
       "      <td>-79.360636</td>\n",
       "      <td>2.0</td>\n",
       "      <td>2</td>\n",
       "    </tr>\n",
       "    <tr>\n",
       "      <td>3</td>\n",
       "      <td>M6A</td>\n",
       "      <td>North York</td>\n",
       "      <td>Lawrence Manor , Lawrence Heights</td>\n",
       "      <td>43.718518</td>\n",
       "      <td>-79.464763</td>\n",
       "      <td>2.0</td>\n",
       "      <td>0</td>\n",
       "    </tr>\n",
       "    <tr>\n",
       "      <td>4</td>\n",
       "      <td>M7A</td>\n",
       "      <td>Downtown Toronto</td>\n",
       "      <td>Queen's Park , Ontario Provincial Government</td>\n",
       "      <td>43.662301</td>\n",
       "      <td>-79.389494</td>\n",
       "      <td>2.0</td>\n",
       "      <td>2</td>\n",
       "    </tr>\n",
       "  </tbody>\n",
       "</table>\n",
       "</div>"
      ],
      "text/plain": [
       "  Postal Code           Borough                                  Neighborhood  \\\n",
       "0         M3A        North York                                     Parkwoods   \n",
       "1         M4A        North York                              Victoria Village   \n",
       "2         M5A  Downtown Toronto                    Regent Park , Harbourfront   \n",
       "3         M6A        North York             Lawrence Manor , Lawrence Heights   \n",
       "4         M7A  Downtown Toronto  Queen's Park , Ontario Provincial Government   \n",
       "\n",
       "    Latitude  Longitude  Num  group  \n",
       "0  43.753259 -79.329656  1.0      0  \n",
       "1  43.725882 -79.315572  1.0      0  \n",
       "2  43.654260 -79.360636  2.0      2  \n",
       "3  43.718518 -79.464763  2.0      0  \n",
       "4  43.662301 -79.389494  2.0      2  "
      ]
     },
     "execution_count": 36,
     "metadata": {},
     "output_type": "execute_result"
    }
   ],
   "source": [
    "test_PostalCodes['group']=k_means_labels\n",
    "test_PostalCodes.head()"
   ]
  },
  {
   "cell_type": "code",
   "execution_count": 39,
   "metadata": {},
   "outputs": [
    {
     "name": "stdout",
     "output_type": "stream",
     "text": [
      "The geograpical coordinate of Toronto are 43.6534817, -79.3839347.\n"
     ]
    }
   ],
   "source": [
    "from geopy.geocoders import Nominatim # convert an address into latitude and longitude values\n",
    "\n",
    "address = 'Toronto, CA'\n",
    "\n",
    "geolocator = Nominatim(user_agent=\"ny_explorer\")\n",
    "location = geolocator.geocode(address)\n",
    "latitude = location.latitude\n",
    "longitude = location.longitude\n",
    "print('The geograpical coordinate of Toronto are {}, {}.'.format(latitude, longitude))"
   ]
  },
  {
   "cell_type": "code",
   "execution_count": 46,
   "metadata": {},
   "outputs": [
    {
     "data": {
      "text/html": [
       "<div style=\"width:100%;\"><div style=\"position:relative;width:100%;height:0;padding-bottom:60%;\"><iframe src=\"about:blank\" style=\"position:absolute;width:100%;height:100%;left:0;top:0;border:none !important;\" data-html=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 onload=\"this.contentDocument.open();this.contentDocument.write(atob(this.getAttribute('data-html')));this.contentDocument.close();\" allowfullscreen webkitallowfullscreen mozallowfullscreen></iframe></div></div>"
      ],
      "text/plain": [
       "<folium.folium.Map at 0x25d22bfae88>"
      ]
     },
     "execution_count": 46,
     "metadata": {},
     "output_type": "execute_result"
    }
   ],
   "source": [
    "import folium # map rendering library\n",
    "\n",
    "# create map of New York using latitude and longitude values\n",
    "map_ = folium.Map(location=[latitude, longitude], zoom_start=10)\n",
    "\n",
    "# add markers to map\n",
    "colors=['#000033','#009900','#ff0000','#9966cc','#ccffcc','#ff3300']\n",
    "for lat, lng, PostalCode, group in zip(test_PostalCodes['Latitude'], test_PostalCodes['Longitude'], test_PostalCodes['Postal Code'], test_PostalCodes['group']):\n",
    "    label = '{},({}, {})-group{}'.format(PostalCode,lat, lng,group)\n",
    "    label = folium.Popup(label, parse_html=True)\n",
    "    folium.CircleMarker(\n",
    "        [lat, lng],\n",
    "        radius=5,\n",
    "        popup=label,\n",
    "        color=colors[group],\n",
    "        fill=True,\n",
    "        fill_color=colors[group],\n",
    "        fill_opacity=0.7,\n",
    "        parse_html=False).add_to(map_)  \n",
    "    \n",
    "map_"
   ]
  },
  {
   "cell_type": "code",
   "execution_count": null,
   "metadata": {},
   "outputs": [],
   "source": []
  }
 ],
 "metadata": {
  "kernelspec": {
   "display_name": "Python 3",
   "language": "python",
   "name": "python3"
  },
  "language_info": {
   "codemirror_mode": {
    "name": "ipython",
    "version": 3
   },
   "file_extension": ".py",
   "mimetype": "text/x-python",
   "name": "python",
   "nbconvert_exporter": "python",
   "pygments_lexer": "ipython3",
   "version": "3.7.4"
  }
 },
 "nbformat": 4,
 "nbformat_minor": 4
}
